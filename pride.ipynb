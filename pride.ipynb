{
 "cells": [
  {
   "cell_type": "markdown",
   "metadata": {},
   "source": [
    "Imports"
   ]
  },
  {
   "cell_type": "code",
   "execution_count": 1,
   "metadata": {},
   "outputs": [],
   "source": [
    "from filter_datasets import *\n",
    "import json\n",
    "import ppx #A Python interface to proteomics data repositories\n",
    "from pyteomics import mztab\n",
    "from ete3 import Tree, NodeStyle, TreeStyle, NodeStyle, faces, AttrFace, CircleFace\n",
    "from ete3 import NCBITaxa"
   ]
  },
  {
   "cell_type": "markdown",
   "metadata": {},
   "source": [
    "Search databases in pride:\n",
    "\n",
    "- Pride_plant.json is the result from filterPride function on PRIDE databases\n"
   ]
  },
  {
   "cell_type": "code",
   "execution_count": 2,
   "metadata": {},
   "outputs": [
    {
     "name": "stdout",
     "output_type": "stream",
     "text": [
      "Total of plants retrieved from pride database: 1464\n"
     ]
    }
   ],
   "source": [
    "with open('pride_plant.json') as pride_plants_file:\n",
    "    pride_plant = json.load(pride_plants_file)\n",
    "print(f\"Total of plants retrieved from pride database: {len(pride_plant)}\")"
   ]
  },
  {
   "cell_type": "code",
   "execution_count": 16,
   "metadata": {},
   "outputs": [
    {
     "name": "stdout",
     "output_type": "stream",
     "text": [
      "Erro no projeto: PXD000305\n",
      "Erro no projeto: PXD000319\n",
      "Erro no projeto: PXD000398\n",
      "Erro no projeto: PXD000527\n",
      "Erro no projeto: PXD002027\n",
      "Erro no projeto: PXD002756\n"
     ]
    }
   ],
   "source": [
    "pride_project_map = {}\n",
    "for projects,values in pride_plant.items():\n",
    "    try:\n",
    "        mztabs = findmztab(projects)\n",
    "        if mztabs != None:\n",
    "            pride_project_map[projects] = mztabs[projects]\n",
    "    except:\n",
    "        print(f\"Erro no projeto: {projects}\")\n",
    "pride_project_map"
   ]
  },
  {
   "cell_type": "markdown",
   "metadata": {},
   "source": [
    "Teste para baixar os dados dos projetos"
   ]
  }
 ],
 "metadata": {
  "interpreter": {
   "hash": "aef02e25b8f048ebbd4c2676995f65e0bca0bcbe7f18cd04ddbf903968badd38"
  },
  "kernelspec": {
   "display_name": "Python 3.9.7 64-bit ('lncrna': conda)",
   "language": "python",
   "name": "python3"
  },
  "language_info": {
   "codemirror_mode": {
    "name": "ipython",
    "version": 3
   },
   "file_extension": ".py",
   "mimetype": "text/x-python",
   "name": "python",
   "nbconvert_exporter": "python",
   "pygments_lexer": "ipython3",
   "version": "3.9.7"
  },
  "orig_nbformat": 4
 },
 "nbformat": 4,
 "nbformat_minor": 2
}
