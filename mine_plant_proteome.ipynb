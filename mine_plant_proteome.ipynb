{
 "cells": [
  {
   "cell_type": "markdown",
   "id": "eee8e0a3",
   "metadata": {},
   "source": [
    "## 1. Get MassIVE"
   ]
  },
  {
   "cell_type": "markdown",
   "metadata": {},
   "source": []
  },
  {
   "cell_type": "code",
   "execution_count": null,
   "id": "ac3a1b01",
   "metadata": {},
   "outputs": [],
   "source": [
    "from filter_datasets import *\n",
    "import json\n",
    "import ppx #A Python interface to proteomics data repositories\n",
    "from pyteomics import mztab\n",
    "from ete3 import Tree, NodeStyle, TreeStyle, NodeStyle, faces, AttrFace, CircleFace\n",
    "from ete3 import NCBITaxa"
   ]
  },
  {
   "cell_type": "code",
   "execution_count": null,
   "id": "55e63743",
   "metadata": {},
   "outputs": [],
   "source": [
    "databases_massIVE = getAllDts() #get all datesets available on massIVE\n",
    "MassIVE_datasets_df = pd.DataFrame(databases_massIVE)\n",
    "MassIVE_datasets_df.species[MassIVE_datasets_df.species.str.contains('3702')] # Arabidopsis positive control. Search made through taxon ID\n",
    "MassIVE_datasets_df.head()"
   ]
  },
  {
   "cell_type": "code",
   "execution_count": null,
   "metadata": {},
   "outputs": [],
   "source": [
    "MassIVE_datasets_df.columns"
   ]
  },
  {
   "cell_type": "code",
   "execution_count": null,
   "id": "e38292f9",
   "metadata": {},
   "outputs": [],
   "source": [
    "# massive_plantid_proteomics.tsv is the result from filterMassIVE function on MassIVE databases\n",
    "MassIVE_passed_df = pd.read_csv('massive_plantid_proteomics.tsv', sep='\\t')\n",
    "MassIVE_passed_df.head()"
   ]
  },
  {
   "cell_type": "markdown",
   "id": "b35594b8",
   "metadata": {},
   "source": [
    "## 2. GET PRIDE"
   ]
  },
  {
   "cell_type": "code",
   "execution_count": null,
   "id": "1002fea3",
   "metadata": {},
   "outputs": [],
   "source": [
    "# pride_plant.json is the result from filterPride function on PRIDE databases\n",
    "with open('pride_plant.json') as pride_plants_file:\n",
    "    pride_plant = json.load(pride_plants_file)\n",
    "print(f\"Total of plants retrieved from pride database: {len(pride_plant)}\")"
   ]
  },
  {
   "cell_type": "markdown",
   "metadata": {},
   "source": [
    "### Tiago"
   ]
  },
  {
   "cell_type": "code",
   "execution_count": 103,
   "metadata": {},
   "outputs": [
    {
     "ename": "error_temp",
     "evalue": "Failed after 10 reconnect(s), the last error was: 550 Failed to change directory.",
     "output_type": "error",
     "traceback": [
      "\u001b[0;31m---------------------------------------------------------------------------\u001b[0m",
      "\u001b[0;31merror_temp\u001b[0m                                Traceback (most recent call last)",
      "\u001b[0;32m/tmp/ipykernel_14230/176191707.py\u001b[0m in \u001b[0;36m<module>\u001b[0;34m\u001b[0m\n\u001b[1;32m      4\u001b[0m \u001b[0;34m\u001b[0m\u001b[0m\n\u001b[1;32m      5\u001b[0m \u001b[0;32mfor\u001b[0m \u001b[0mprojetc_identifiers\u001b[0m\u001b[0;34m,\u001b[0m\u001b[0maccession_number\u001b[0m \u001b[0;32min\u001b[0m \u001b[0mpride_plant\u001b[0m\u001b[0;34m.\u001b[0m\u001b[0mitems\u001b[0m\u001b[0;34m(\u001b[0m\u001b[0;34m)\u001b[0m\u001b[0;34m:\u001b[0m\u001b[0;34m\u001b[0m\u001b[0;34m\u001b[0m\u001b[0m\n\u001b[0;32m----> 6\u001b[0;31m  \u001b[0;32mif\u001b[0m \u001b[0mfindmztab\u001b[0m\u001b[0;34m(\u001b[0m\u001b[0mprojetc_identifiers\u001b[0m\u001b[0;34m)\u001b[0m \u001b[0;34m!=\u001b[0m \u001b[0;32mNone\u001b[0m\u001b[0;34m:\u001b[0m\u001b[0;34m\u001b[0m\u001b[0;34m\u001b[0m\u001b[0m\n\u001b[0m\u001b[1;32m      7\u001b[0m     \u001b[0mretrivied_projects\u001b[0m \u001b[0;34m=\u001b[0m \u001b[0mppx\u001b[0m\u001b[0;34m.\u001b[0m\u001b[0mfind_project\u001b[0m\u001b[0;34m(\u001b[0m\u001b[0mprojetc_identifiers\u001b[0m\u001b[0;34m,\u001b[0m\u001b[0mlocal\u001b[0m \u001b[0;34m=\u001b[0m \u001b[0;34m\"/home/tiago/documents/lncRNA/pride_projects\"\u001b[0m\u001b[0;34m)\u001b[0m\u001b[0;34m\u001b[0m\u001b[0;34m\u001b[0m\u001b[0m\n\u001b[1;32m      8\u001b[0m     \u001b[0mremote_files\u001b[0m\u001b[0;34m.\u001b[0m\u001b[0mappend\u001b[0m\u001b[0;34m(\u001b[0m\u001b[0mretrivied_projects\u001b[0m\u001b[0;34m.\u001b[0m\u001b[0mremote_files\u001b[0m\u001b[0;34m(\u001b[0m\u001b[0;34m)\u001b[0m\u001b[0;34m)\u001b[0m\u001b[0;34m\u001b[0m\u001b[0;34m\u001b[0m\u001b[0m\n",
      "\u001b[0;32m~/documents/lncRNA/filter_datasets.py\u001b[0m in \u001b[0;36mfindmztab\u001b[0;34m(identifier)\u001b[0m\n\u001b[1;32m    116\u001b[0m     \u001b[0;32mwith\u001b[0m \u001b[0mopen\u001b[0m\u001b[0;34m(\u001b[0m\u001b[0;34m'pride_plant.json'\u001b[0m\u001b[0;34m,\u001b[0m \u001b[0;34m'w+'\u001b[0m\u001b[0;34m)\u001b[0m \u001b[0;32mas\u001b[0m \u001b[0mf\u001b[0m\u001b[0;34m:\u001b[0m\u001b[0;34m\u001b[0m\u001b[0;34m\u001b[0m\u001b[0m\n\u001b[1;32m    117\u001b[0m         \u001b[0mjson\u001b[0m\u001b[0;34m.\u001b[0m\u001b[0mdump\u001b[0m\u001b[0;34m(\u001b[0m\u001b[0mplant_projects\u001b[0m\u001b[0;34m,\u001b[0m \u001b[0mf\u001b[0m\u001b[0;34m,\u001b[0m \u001b[0mindent\u001b[0m\u001b[0;34m=\u001b[0m\u001b[0;36m4\u001b[0m\u001b[0;34m)\u001b[0m\u001b[0;34m\u001b[0m\u001b[0;34m\u001b[0m\u001b[0m\n\u001b[0;32m--> 118\u001b[0;31m \u001b[0;34m\u001b[0m\u001b[0m\n\u001b[0m\u001b[1;32m    119\u001b[0m \u001b[0;32mdef\u001b[0m \u001b[0mfindmztab\u001b[0m\u001b[0;34m(\u001b[0m\u001b[0midentifier\u001b[0m\u001b[0;34m)\u001b[0m\u001b[0;34m:\u001b[0m\u001b[0;34m\u001b[0m\u001b[0;34m\u001b[0m\u001b[0m\n\u001b[1;32m    120\u001b[0m     \u001b[0mproj\u001b[0m \u001b[0;34m=\u001b[0m \u001b[0mppx\u001b[0m\u001b[0;34m.\u001b[0m\u001b[0mfind_project\u001b[0m\u001b[0;34m(\u001b[0m\u001b[0midentifier\u001b[0m\u001b[0;34m)\u001b[0m\u001b[0;34m\u001b[0m\u001b[0;34m\u001b[0m\u001b[0m\n",
      "\u001b[0;32m~/anaconda3/envs/lncrna/lib/python3.9/site-packages/ppx/project.py\u001b[0m in \u001b[0;36mremote_files\u001b[0;34m(self, glob)\u001b[0m\n\u001b[1;32m    159\u001b[0m         \"\"\"\n\u001b[1;32m    160\u001b[0m         \u001b[0;32mif\u001b[0m \u001b[0mself\u001b[0m\u001b[0;34m.\u001b[0m\u001b[0mfetch\u001b[0m \u001b[0;32mor\u001b[0m \u001b[0mself\u001b[0m\u001b[0;34m.\u001b[0m\u001b[0m_remote_files\u001b[0m \u001b[0;32mis\u001b[0m \u001b[0;32mNone\u001b[0m\u001b[0;34m:\u001b[0m\u001b[0;34m\u001b[0m\u001b[0;34m\u001b[0m\u001b[0m\n\u001b[0;32m--> 161\u001b[0;31m             \u001b[0mself\u001b[0m\u001b[0;34m.\u001b[0m\u001b[0m_remote_files\u001b[0m \u001b[0;34m=\u001b[0m \u001b[0mself\u001b[0m\u001b[0;34m.\u001b[0m\u001b[0m_parser\u001b[0m\u001b[0;34m.\u001b[0m\u001b[0mfiles\u001b[0m\u001b[0;34m\u001b[0m\u001b[0;34m\u001b[0m\u001b[0m\n\u001b[0m\u001b[1;32m    162\u001b[0m \u001b[0;34m\u001b[0m\u001b[0m\n\u001b[1;32m    163\u001b[0m         \u001b[0;32mif\u001b[0m \u001b[0mglob\u001b[0m \u001b[0;32mis\u001b[0m \u001b[0;32mnot\u001b[0m \u001b[0;32mNone\u001b[0m\u001b[0;34m:\u001b[0m\u001b[0;34m\u001b[0m\u001b[0;34m\u001b[0m\u001b[0m\n",
      "\u001b[0;32m~/anaconda3/envs/lncrna/lib/python3.9/site-packages/ppx/ftp.py\u001b[0m in \u001b[0;36mfiles\u001b[0;34m(self)\u001b[0m\n\u001b[1;32m    242\u001b[0m         \u001b[0;34m\"\"\"List the files form the FTP connection\"\"\"\u001b[0m\u001b[0;34m\u001b[0m\u001b[0;34m\u001b[0m\u001b[0m\n\u001b[1;32m    243\u001b[0m         \u001b[0;32mif\u001b[0m \u001b[0mself\u001b[0m\u001b[0;34m.\u001b[0m\u001b[0m_files\u001b[0m \u001b[0;32mis\u001b[0m \u001b[0;32mNone\u001b[0m\u001b[0;34m:\u001b[0m\u001b[0;34m\u001b[0m\u001b[0;34m\u001b[0m\u001b[0m\n\u001b[0;32m--> 244\u001b[0;31m             \u001b[0mself\u001b[0m\u001b[0;34m.\u001b[0m\u001b[0m_get_files\u001b[0m\u001b[0;34m(\u001b[0m\u001b[0;34m)\u001b[0m\u001b[0;34m\u001b[0m\u001b[0;34m\u001b[0m\u001b[0m\n\u001b[0m\u001b[1;32m    245\u001b[0m             \u001b[0mself\u001b[0m\u001b[0;34m.\u001b[0m\u001b[0m_files\u001b[0m\u001b[0;34m.\u001b[0m\u001b[0msort\u001b[0m\u001b[0;34m(\u001b[0m\u001b[0;34m)\u001b[0m\u001b[0;34m\u001b[0m\u001b[0;34m\u001b[0m\u001b[0m\n\u001b[1;32m    246\u001b[0m \u001b[0;34m\u001b[0m\u001b[0m\n",
      "\u001b[0;32m~/anaconda3/envs/lncrna/lib/python3.9/site-packages/ppx/ftp.py\u001b[0m in \u001b[0;36m_get_files\u001b[0;34m(self)\u001b[0m\n\u001b[1;32m    183\u001b[0m     \u001b[0;32mdef\u001b[0m \u001b[0m_get_files\u001b[0m\u001b[0;34m(\u001b[0m\u001b[0mself\u001b[0m\u001b[0;34m)\u001b[0m\u001b[0;34m:\u001b[0m\u001b[0;34m\u001b[0m\u001b[0;34m\u001b[0m\u001b[0m\n\u001b[1;32m    184\u001b[0m         \u001b[0;34m\"\"\"Recursively list files from the FTP connection.\"\"\"\u001b[0m\u001b[0;34m\u001b[0m\u001b[0;34m\u001b[0m\u001b[0m\n\u001b[0;32m--> 185\u001b[0;31m         \u001b[0mself\u001b[0m\u001b[0;34m.\u001b[0m\u001b[0mconnect\u001b[0m\u001b[0;34m(\u001b[0m\u001b[0;34m)\u001b[0m\u001b[0;34m\u001b[0m\u001b[0;34m\u001b[0m\u001b[0m\n\u001b[0m\u001b[1;32m    186\u001b[0m         \u001b[0mself\u001b[0m\u001b[0;34m.\u001b[0m\u001b[0m_files\u001b[0m\u001b[0;34m,\u001b[0m \u001b[0mself\u001b[0m\u001b[0;34m.\u001b[0m\u001b[0m_dirs\u001b[0m \u001b[0;34m=\u001b[0m \u001b[0mself\u001b[0m\u001b[0;34m.\u001b[0m\u001b[0m_with_reconnects\u001b[0m\u001b[0;34m(\u001b[0m\u001b[0mself\u001b[0m\u001b[0;34m.\u001b[0m\u001b[0m_parse_files\u001b[0m\u001b[0;34m)\u001b[0m\u001b[0;34m\u001b[0m\u001b[0;34m\u001b[0m\u001b[0m\n\u001b[1;32m    187\u001b[0m         \u001b[0mself\u001b[0m\u001b[0;34m.\u001b[0m\u001b[0m_depth\u001b[0m \u001b[0;34m=\u001b[0m \u001b[0;36m0\u001b[0m\u001b[0;34m\u001b[0m\u001b[0;34m\u001b[0m\u001b[0m\n",
      "\u001b[0;32m~/anaconda3/envs/lncrna/lib/python3.9/site-packages/ppx/ftp.py\u001b[0m in \u001b[0;36mconnect\u001b[0;34m(self)\u001b[0m\n\u001b[1;32m     81\u001b[0m     \u001b[0;32mdef\u001b[0m \u001b[0mconnect\u001b[0m\u001b[0;34m(\u001b[0m\u001b[0mself\u001b[0m\u001b[0;34m)\u001b[0m\u001b[0;34m:\u001b[0m\u001b[0;34m\u001b[0m\u001b[0;34m\u001b[0m\u001b[0m\n\u001b[1;32m     82\u001b[0m         \u001b[0;34m\"\"\"Connect to the FTP server, with reconnects on failure.\"\"\"\u001b[0m\u001b[0;34m\u001b[0m\u001b[0;34m\u001b[0m\u001b[0m\n\u001b[0;32m---> 83\u001b[0;31m         \u001b[0mself\u001b[0m\u001b[0;34m.\u001b[0m\u001b[0m_with_reconnects\u001b[0m\u001b[0;34m(\u001b[0m\u001b[0mself\u001b[0m\u001b[0;34m.\u001b[0m\u001b[0m_connect\u001b[0m\u001b[0;34m)\u001b[0m\u001b[0;34m\u001b[0m\u001b[0;34m\u001b[0m\u001b[0m\n\u001b[0m\u001b[1;32m     84\u001b[0m \u001b[0;34m\u001b[0m\u001b[0m\n\u001b[1;32m     85\u001b[0m     \u001b[0;32mdef\u001b[0m \u001b[0mquit\u001b[0m\u001b[0;34m(\u001b[0m\u001b[0mself\u001b[0m\u001b[0;34m)\u001b[0m\u001b[0;34m:\u001b[0m\u001b[0;34m\u001b[0m\u001b[0;34m\u001b[0m\u001b[0m\n",
      "\u001b[0;32m~/anaconda3/envs/lncrna/lib/python3.9/site-packages/ppx/ftp.py\u001b[0m in \u001b[0;36m_with_reconnects\u001b[0;34m(self, func, *args, **kwargs)\u001b[0m\n\u001b[1;32m    110\u001b[0m                 \u001b[0mlast_err\u001b[0m \u001b[0;34m=\u001b[0m \u001b[0merr\u001b[0m\u001b[0;34m\u001b[0m\u001b[0;34m\u001b[0m\u001b[0m\n\u001b[1;32m    111\u001b[0m \u001b[0;34m\u001b[0m\u001b[0m\n\u001b[0;32m--> 112\u001b[0;31m         raise error_temp(\n\u001b[0m\u001b[1;32m    113\u001b[0m             \u001b[0;34mf\"Failed after {self.max_reconnects} reconnect(s), \"\u001b[0m\u001b[0;34m\u001b[0m\u001b[0;34m\u001b[0m\u001b[0m\n\u001b[1;32m    114\u001b[0m             \u001b[0;34mf\"the last error was: {last_err}\"\u001b[0m\u001b[0;34m\u001b[0m\u001b[0;34m\u001b[0m\u001b[0m\n",
      "\u001b[0;31merror_temp\u001b[0m: Failed after 10 reconnect(s), the last error was: 550 Failed to change directory."
     ]
    }
   ],
   "source": [
    "# import json\n",
    "# with open(\"pride_projects.json\",\"w+\") as pride_projets:\n",
    "remote_files = []\n",
    "\n",
    "for projetc_identifiers,accession_number in pride_plant.items():\n",
    " if findmztab(projetc_identifiers) != None:\n",
    "    retrivied_projects = ppx.find_project(projetc_identifiers,local = \"/home/tiago/documents/lncRNA/pride_projects\")\n",
    "    remote_files.append(retrivied_projects.remote_files())\n",
    "print(remote_files)\n",
    "\n",
    "\n",
    "\n",
    "\n",
    "            \n",
    "            # json.dump(retrivied_projects,pride_projets)\n",
    "            #  for projects,mztable_links in retrivied_projects.items():\n",
    "            #      print(mztable_links)\n",
    "\n",
    "            #  print(retrivied_projects)\n",
    "\n",
    "\n",
    "            #  for retrivied_projects.items()\n",
    "            #  print(retrivied_projects.values())\n",
    "        \n"
   ]
  },
  {
   "cell_type": "code",
   "execution_count": 104,
   "metadata": {},
   "outputs": [
    {
     "data": {
      "text/plain": [
       "[]"
      ]
     },
     "execution_count": 104,
     "metadata": {},
     "output_type": "execute_result"
    }
   ],
   "source": [
    "remote_files"
   ]
  },
  {
   "cell_type": "code",
   "execution_count": null,
   "metadata": {},
   "outputs": [],
   "source": []
  },
  {
   "cell_type": "markdown",
   "metadata": {},
   "source": [
    "### Ricardo"
   ]
  },
  {
   "cell_type": "code",
   "execution_count": 92,
   "id": "138a421c",
   "metadata": {},
   "outputs": [
    {
     "data": {
      "text/plain": [
       "['PRD000037', 'PRD000044', 'PRD000051', 'PRD000084', 'PRD000096']"
      ]
     },
     "execution_count": 92,
     "metadata": {},
     "output_type": "execute_result"
    }
   ],
   "source": [
    "projetc_identifiers = [] # holds project number for all plants species data from pride\n",
    "accession_number = [] # holds taxon id for all plants species data from pride\n",
    "for key,value in pride_plant.items():\n",
    "    projetc_identifiers.append(key)\n",
    "    accession_number.append(value['accession'])\n",
    "    "
   ]
  },
  {
   "cell_type": "code",
   "execution_count": 93,
   "metadata": {},
   "outputs": [
    {
     "data": {
      "text/plain": [
       "['PRD000037', 'PRD000044', 'PRD000051', 'PRD000084', 'PRD000096']"
      ]
     },
     "execution_count": 93,
     "metadata": {},
     "output_type": "execute_result"
    }
   ],
   "source": [
    "projetc_identifiers[:5]"
   ]
  },
  {
   "cell_type": "code",
   "execution_count": 95,
   "metadata": {},
   "outputs": [
    {
     "data": {
      "text/plain": [
       "['3055', '3702', '4577', '3702', '3702']"
      ]
     },
     "execution_count": 95,
     "metadata": {},
     "output_type": "execute_result"
    }
   ],
   "source": [
    "accession_number[:5]"
   ]
  },
  {
   "cell_type": "code",
   "execution_count": 97,
   "id": "97bd29f4",
   "metadata": {},
   "outputs": [
    {
     "ename": "error_temp",
     "evalue": "Failed after 10 reconnect(s), the last error was: 550 Failed to change directory.",
     "output_type": "error",
     "traceback": [
      "\u001b[0;31m---------------------------------------------------------------------------\u001b[0m",
      "\u001b[0;31merror_temp\u001b[0m                                Traceback (most recent call last)",
      "\u001b[0;32m/tmp/ipykernel_14230/1101157818.py\u001b[0m in \u001b[0;36m<module>\u001b[0;34m\u001b[0m\n\u001b[1;32m      1\u001b[0m \u001b[0mproj\u001b[0m \u001b[0;34m=\u001b[0m \u001b[0mppx\u001b[0m\u001b[0;34m.\u001b[0m\u001b[0mfind_project\u001b[0m\u001b[0;34m(\u001b[0m\u001b[0mprojetc_identifiers\u001b[0m\u001b[0;34m[\u001b[0m\u001b[0;36m0\u001b[0m\u001b[0;34m]\u001b[0m\u001b[0;34m)\u001b[0m \u001b[0;31m#Get files from projects\u001b[0m\u001b[0;34m\u001b[0m\u001b[0;34m\u001b[0m\u001b[0m\n\u001b[0;32m----> 2\u001b[0;31m \u001b[0mremote_files\u001b[0m \u001b[0;34m=\u001b[0m \u001b[0mproj\u001b[0m\u001b[0;34m.\u001b[0m\u001b[0mremote_files\u001b[0m\u001b[0;34m(\u001b[0m\u001b[0;34m)\u001b[0m\u001b[0;34m\u001b[0m\u001b[0;34m\u001b[0m\u001b[0m\n\u001b[0m\u001b[1;32m      3\u001b[0m \u001b[0mprint\u001b[0m\u001b[0;34m(\u001b[0m\u001b[0mremote_files\u001b[0m\u001b[0;34m)\u001b[0m\u001b[0;34m\u001b[0m\u001b[0;34m\u001b[0m\u001b[0m\n",
      "\u001b[0;32m~/anaconda3/envs/lncrna/lib/python3.9/site-packages/ppx/project.py\u001b[0m in \u001b[0;36mremote_files\u001b[0;34m(self, glob)\u001b[0m\n\u001b[1;32m    159\u001b[0m         \"\"\"\n\u001b[1;32m    160\u001b[0m         \u001b[0;32mif\u001b[0m \u001b[0mself\u001b[0m\u001b[0;34m.\u001b[0m\u001b[0mfetch\u001b[0m \u001b[0;32mor\u001b[0m \u001b[0mself\u001b[0m\u001b[0;34m.\u001b[0m\u001b[0m_remote_files\u001b[0m \u001b[0;32mis\u001b[0m \u001b[0;32mNone\u001b[0m\u001b[0;34m:\u001b[0m\u001b[0;34m\u001b[0m\u001b[0;34m\u001b[0m\u001b[0m\n\u001b[0;32m--> 161\u001b[0;31m             \u001b[0mself\u001b[0m\u001b[0;34m.\u001b[0m\u001b[0m_remote_files\u001b[0m \u001b[0;34m=\u001b[0m \u001b[0mself\u001b[0m\u001b[0;34m.\u001b[0m\u001b[0m_parser\u001b[0m\u001b[0;34m.\u001b[0m\u001b[0mfiles\u001b[0m\u001b[0;34m\u001b[0m\u001b[0;34m\u001b[0m\u001b[0m\n\u001b[0m\u001b[1;32m    162\u001b[0m \u001b[0;34m\u001b[0m\u001b[0m\n\u001b[1;32m    163\u001b[0m         \u001b[0;32mif\u001b[0m \u001b[0mglob\u001b[0m \u001b[0;32mis\u001b[0m \u001b[0;32mnot\u001b[0m \u001b[0;32mNone\u001b[0m\u001b[0;34m:\u001b[0m\u001b[0;34m\u001b[0m\u001b[0;34m\u001b[0m\u001b[0m\n",
      "\u001b[0;32m~/anaconda3/envs/lncrna/lib/python3.9/site-packages/ppx/ftp.py\u001b[0m in \u001b[0;36mfiles\u001b[0;34m(self)\u001b[0m\n\u001b[1;32m    242\u001b[0m         \u001b[0;34m\"\"\"List the files form the FTP connection\"\"\"\u001b[0m\u001b[0;34m\u001b[0m\u001b[0;34m\u001b[0m\u001b[0m\n\u001b[1;32m    243\u001b[0m         \u001b[0;32mif\u001b[0m \u001b[0mself\u001b[0m\u001b[0;34m.\u001b[0m\u001b[0m_files\u001b[0m \u001b[0;32mis\u001b[0m \u001b[0;32mNone\u001b[0m\u001b[0;34m:\u001b[0m\u001b[0;34m\u001b[0m\u001b[0;34m\u001b[0m\u001b[0m\n\u001b[0;32m--> 244\u001b[0;31m             \u001b[0mself\u001b[0m\u001b[0;34m.\u001b[0m\u001b[0m_get_files\u001b[0m\u001b[0;34m(\u001b[0m\u001b[0;34m)\u001b[0m\u001b[0;34m\u001b[0m\u001b[0;34m\u001b[0m\u001b[0m\n\u001b[0m\u001b[1;32m    245\u001b[0m             \u001b[0mself\u001b[0m\u001b[0;34m.\u001b[0m\u001b[0m_files\u001b[0m\u001b[0;34m.\u001b[0m\u001b[0msort\u001b[0m\u001b[0;34m(\u001b[0m\u001b[0;34m)\u001b[0m\u001b[0;34m\u001b[0m\u001b[0;34m\u001b[0m\u001b[0m\n\u001b[1;32m    246\u001b[0m \u001b[0;34m\u001b[0m\u001b[0m\n",
      "\u001b[0;32m~/anaconda3/envs/lncrna/lib/python3.9/site-packages/ppx/ftp.py\u001b[0m in \u001b[0;36m_get_files\u001b[0;34m(self)\u001b[0m\n\u001b[1;32m    183\u001b[0m     \u001b[0;32mdef\u001b[0m \u001b[0m_get_files\u001b[0m\u001b[0;34m(\u001b[0m\u001b[0mself\u001b[0m\u001b[0;34m)\u001b[0m\u001b[0;34m:\u001b[0m\u001b[0;34m\u001b[0m\u001b[0;34m\u001b[0m\u001b[0m\n\u001b[1;32m    184\u001b[0m         \u001b[0;34m\"\"\"Recursively list files from the FTP connection.\"\"\"\u001b[0m\u001b[0;34m\u001b[0m\u001b[0;34m\u001b[0m\u001b[0m\n\u001b[0;32m--> 185\u001b[0;31m         \u001b[0mself\u001b[0m\u001b[0;34m.\u001b[0m\u001b[0mconnect\u001b[0m\u001b[0;34m(\u001b[0m\u001b[0;34m)\u001b[0m\u001b[0;34m\u001b[0m\u001b[0;34m\u001b[0m\u001b[0m\n\u001b[0m\u001b[1;32m    186\u001b[0m         \u001b[0mself\u001b[0m\u001b[0;34m.\u001b[0m\u001b[0m_files\u001b[0m\u001b[0;34m,\u001b[0m \u001b[0mself\u001b[0m\u001b[0;34m.\u001b[0m\u001b[0m_dirs\u001b[0m \u001b[0;34m=\u001b[0m \u001b[0mself\u001b[0m\u001b[0;34m.\u001b[0m\u001b[0m_with_reconnects\u001b[0m\u001b[0;34m(\u001b[0m\u001b[0mself\u001b[0m\u001b[0;34m.\u001b[0m\u001b[0m_parse_files\u001b[0m\u001b[0;34m)\u001b[0m\u001b[0;34m\u001b[0m\u001b[0;34m\u001b[0m\u001b[0m\n\u001b[1;32m    187\u001b[0m         \u001b[0mself\u001b[0m\u001b[0;34m.\u001b[0m\u001b[0m_depth\u001b[0m \u001b[0;34m=\u001b[0m \u001b[0;36m0\u001b[0m\u001b[0;34m\u001b[0m\u001b[0;34m\u001b[0m\u001b[0m\n",
      "\u001b[0;32m~/anaconda3/envs/lncrna/lib/python3.9/site-packages/ppx/ftp.py\u001b[0m in \u001b[0;36mconnect\u001b[0;34m(self)\u001b[0m\n\u001b[1;32m     81\u001b[0m     \u001b[0;32mdef\u001b[0m \u001b[0mconnect\u001b[0m\u001b[0;34m(\u001b[0m\u001b[0mself\u001b[0m\u001b[0;34m)\u001b[0m\u001b[0;34m:\u001b[0m\u001b[0;34m\u001b[0m\u001b[0;34m\u001b[0m\u001b[0m\n\u001b[1;32m     82\u001b[0m         \u001b[0;34m\"\"\"Connect to the FTP server, with reconnects on failure.\"\"\"\u001b[0m\u001b[0;34m\u001b[0m\u001b[0;34m\u001b[0m\u001b[0m\n\u001b[0;32m---> 83\u001b[0;31m         \u001b[0mself\u001b[0m\u001b[0;34m.\u001b[0m\u001b[0m_with_reconnects\u001b[0m\u001b[0;34m(\u001b[0m\u001b[0mself\u001b[0m\u001b[0;34m.\u001b[0m\u001b[0m_connect\u001b[0m\u001b[0;34m)\u001b[0m\u001b[0;34m\u001b[0m\u001b[0;34m\u001b[0m\u001b[0m\n\u001b[0m\u001b[1;32m     84\u001b[0m \u001b[0;34m\u001b[0m\u001b[0m\n\u001b[1;32m     85\u001b[0m     \u001b[0;32mdef\u001b[0m \u001b[0mquit\u001b[0m\u001b[0;34m(\u001b[0m\u001b[0mself\u001b[0m\u001b[0;34m)\u001b[0m\u001b[0;34m:\u001b[0m\u001b[0;34m\u001b[0m\u001b[0;34m\u001b[0m\u001b[0m\n",
      "\u001b[0;32m~/anaconda3/envs/lncrna/lib/python3.9/site-packages/ppx/ftp.py\u001b[0m in \u001b[0;36m_with_reconnects\u001b[0;34m(self, func, *args, **kwargs)\u001b[0m\n\u001b[1;32m    110\u001b[0m                 \u001b[0mlast_err\u001b[0m \u001b[0;34m=\u001b[0m \u001b[0merr\u001b[0m\u001b[0;34m\u001b[0m\u001b[0;34m\u001b[0m\u001b[0m\n\u001b[1;32m    111\u001b[0m \u001b[0;34m\u001b[0m\u001b[0m\n\u001b[0;32m--> 112\u001b[0;31m         raise error_temp(\n\u001b[0m\u001b[1;32m    113\u001b[0m             \u001b[0;34mf\"Failed after {self.max_reconnects} reconnect(s), \"\u001b[0m\u001b[0;34m\u001b[0m\u001b[0;34m\u001b[0m\u001b[0m\n\u001b[1;32m    114\u001b[0m             \u001b[0;34mf\"the last error was: {last_err}\"\u001b[0m\u001b[0;34m\u001b[0m\u001b[0;34m\u001b[0m\u001b[0m\n",
      "\u001b[0;31merror_temp\u001b[0m: Failed after 10 reconnect(s), the last error was: 550 Failed to change directory."
     ]
    }
   ],
   "source": [
    "proj = ppx.find_project(projetc_identifiers[0]) #Get files from projects  \n",
    "remote_files = proj.remote_files()\n",
    "print(remote_files)"
   ]
  },
  {
   "cell_type": "code",
   "execution_count": null,
   "id": "523393d9",
   "metadata": {},
   "outputs": [],
   "source": [
    "findmztab(projetc_identifiers[0])==None # select m/z tables from a given project.  "
   ]
  },
  {
   "cell_type": "code",
   "execution_count": null,
   "id": "b1e128e6",
   "metadata": {},
   "outputs": [],
   "source": [
    "#Search for project with mztab in pride plants database\n",
    "for i in projetc_identifiers:\n",
    "    if findmztab(i)!= None: #Selec only those files with m\\z tables\n",
    "        print(i)\n",
    "        break #stops at fist result "
   ]
  },
  {
   "cell_type": "code",
   "execution_count": null,
   "id": "abc18410",
   "metadata": {},
   "outputs": [],
   "source": [
    "#Explores the first result\n",
    "#Everything from here must be done to all findings \n",
    "proj = ppx.find_project('PRD000084')"
   ]
  },
  {
   "cell_type": "code",
   "execution_count": null,
   "id": "4b5f0373",
   "metadata": {},
   "outputs": [],
   "source": [
    "proj.metadata.keys()"
   ]
  },
  {
   "cell_type": "code",
   "execution_count": null,
   "id": "ae2d9b7d",
   "metadata": {},
   "outputs": [],
   "source": [
    "pride_plant['PRD000084']"
   ]
  },
  {
   "cell_type": "code",
   "execution_count": null,
   "id": "9e29748c",
   "metadata": {},
   "outputs": [],
   "source": [
    "remote_files = proj.remote_files()\n",
    "print(remote_files)"
   ]
  },
  {
   "cell_type": "code",
   "execution_count": null,
   "id": "24ea6566",
   "metadata": {},
   "outputs": [],
   "source": [
    "findmztab(i)"
   ]
  },
  {
   "cell_type": "code",
   "execution_count": null,
   "id": "b1c0c66d",
   "metadata": {},
   "outputs": [],
   "source": [
    "downloaded = proj.download(\"generated/PRIDE_Exp_Complete_Ac_15505.pride.mztab.gz\")\n",
    "print(downloaded)"
   ]
  },
  {
   "cell_type": "code",
   "execution_count": null,
   "id": "6b4d1d02",
   "metadata": {},
   "outputs": [],
   "source": [
    "!gzip -df /home/tiago/.ppx/PRD000084/generated/PRIDE_Exp_Complete_Ac_15505.pride.mztab.gz "
   ]
  },
  {
   "cell_type": "code",
   "execution_count": null,
   "id": "1e8550f0",
   "metadata": {},
   "outputs": [],
   "source": [
    "!ls /home/tiago/.ppx/PRD000084/generated/"
   ]
  },
  {
   "cell_type": "code",
   "execution_count": null,
   "id": "9f357f8a",
   "metadata": {},
   "outputs": [],
   "source": [
    "tables = mztab.MzTab(\"/home/tiago/.ppx/PRD000084/generated/PRIDE_Exp_Complete_Ac_15505.pride.mztab\")\n",
    "psms = tables.spectrum_match_table\n",
    "psms.head()"
   ]
  },
  {
   "cell_type": "code",
   "execution_count": null,
   "id": "f8b20602",
   "metadata": {},
   "outputs": [],
   "source": [
    "tables.keys()"
   ]
  },
  {
   "cell_type": "code",
   "execution_count": null,
   "id": "f18f59ad",
   "metadata": {},
   "outputs": [],
   "source": [
    "prt = pd.DataFrame(tables['PRT'])"
   ]
  },
  {
   "cell_type": "code",
   "execution_count": null,
   "id": "f624915f",
   "metadata": {},
   "outputs": [],
   "source": [
    "prt.head()"
   ]
  },
  {
   "cell_type": "code",
   "execution_count": null,
   "id": "09f3a53e",
   "metadata": {},
   "outputs": [],
   "source": [
    "prt['description'].str.contains('unknown').sum() #Number of unknown proteins confirmed "
   ]
  },
  {
   "cell_type": "code",
   "execution_count": null,
   "metadata": {},
   "outputs": [],
   "source": [
    "prt[\"description\"].str.contains(\"putative\").sum() #Number of putative proteins "
   ]
  },
  {
   "cell_type": "code",
   "execution_count": null,
   "metadata": {},
   "outputs": [],
   "source": [
    "prt[\"description\"].str.contains(\"hypothetical\").sum() #Nuber of hypothetical proteins"
   ]
  },
  {
   "cell_type": "code",
   "execution_count": null,
   "id": "86b93c5b",
   "metadata": {},
   "outputs": [],
   "source": [
    "prt['description'].str.contains('lnc').sum() #Number of long non coding RNA?"
   ]
  },
  {
   "cell_type": "code",
   "execution_count": null,
   "id": "1be9a566",
   "metadata": {},
   "outputs": [],
   "source": [
    "prt['description'].str.contains('coding', case=False).sum() #Number of coding RNA?"
   ]
  },
  {
   "cell_type": "code",
   "execution_count": null,
   "id": "ab36d0d7",
   "metadata": {},
   "outputs": [],
   "source": [
    "prt['description'].str.contains('non', case=False).sum() #Number of coding RNA"
   ]
  },
  {
   "cell_type": "code",
   "execution_count": null,
   "id": "cdb3d78c",
   "metadata": {},
   "outputs": [],
   "source": [
    "idx = prt['description'].str.contains('unknown') #see the proteins found\n",
    "idx"
   ]
  },
  {
   "cell_type": "code",
   "execution_count": null,
   "id": "8076e3a3",
   "metadata": {},
   "outputs": [],
   "source": [
    "idx[0] = False\n",
    "prt[idx]"
   ]
  },
  {
   "cell_type": "code",
   "execution_count": null,
   "id": "e191c483",
   "metadata": {},
   "outputs": [],
   "source": [
    "accession = list(set(accession))\n",
    "\n",
    "print(len(accession))\n",
    "accession[:10]"
   ]
  },
  {
   "cell_type": "code",
   "execution_count": null,
   "id": "94fe9ca7",
   "metadata": {},
   "outputs": [],
   "source": [
    "ncbi = NCBITaxa()\n",
    "\n",
    "\n",
    "tree = ncbi.get_topology(accession[:3])\n",
    "\n",
    "print (tree.get_ascii(attributes=[\"sci_name\", \"rank\"]))"
   ]
  },
  {
   "cell_type": "markdown",
   "id": "408fd1ea",
   "metadata": {},
   "source": [
    "# Not working, make plot of species available, can use other tools\n",
    "# https://phylot.biobyte.de\n",
    "ts = TreeStyle()\n",
    "ts.show_leaf_name = True\n",
    "ts.mode = \"c\"\n",
    "ts.arc_start = -180 # 0 degrees = 3 o'clock\n",
    "ts.arc_span = 180\n",
    "\n",
    "for n in tree.traverse():\n",
    "    if n.is_leaf():\n",
    "        n.name = n.sci_name\n",
    "\n",
    "tree.render(\"pride_plant_tree.pdf\", w=500, tree_style=ts)"
   ]
  }
 ],
 "metadata": {
  "interpreter": {
   "hash": "aef02e25b8f048ebbd4c2676995f65e0bca0bcbe7f18cd04ddbf903968badd38"
  },
  "kernelspec": {
   "display_name": "Python 3.9.7 64-bit ('lncrna': conda)",
   "name": "python3"
  },
  "language_info": {
   "codemirror_mode": {
    "name": "ipython",
    "version": 3
   },
   "file_extension": ".py",
   "mimetype": "text/x-python",
   "name": "python",
   "nbconvert_exporter": "python",
   "pygments_lexer": "ipython3",
   "version": "3.9.7"
  }
 },
 "nbformat": 4,
 "nbformat_minor": 5
}
