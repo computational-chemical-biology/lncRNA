{
 "cells": [
  {
   "cell_type": "code",
   "execution_count": 2,
   "id": "ac3a1b01",
   "metadata": {},
   "outputs": [],
   "source": [
    "from filter_datasets import *\n",
    "import json\n",
    "import ppx #A Python interface to proteomics data repositories\n",
    "from pyteomics import mztab\n",
    "from ete3 import Tree, NodeStyle, TreeStyle, NodeStyle, faces, AttrFace, CircleFace\n",
    "from ete3 import NCBITaxa"
   ]
  },
  {
   "cell_type": "markdown",
   "id": "eee8e0a3",
   "metadata": {},
   "source": [
    "## 1. Get MassIVE"
   ]
  },
  {
   "cell_type": "code",
   "execution_count": null,
   "id": "55e63743",
   "metadata": {},
   "outputs": [],
   "source": [
    "databases_massIVE = getAllDts() #get all datesets available on massIVE\n",
    "MassIVE_datasets_df = pd.DataFrame(databases_massIVE)\n",
    "MassIVE_datasets_df.species[MassIVE_datasets_df.species.str.contains('3702')] # Arabidopsis positive control. Search made through taxon ID\n",
    "MassIVE_datasets_df.head()"
   ]
  },
  {
   "cell_type": "code",
   "execution_count": null,
   "metadata": {},
   "outputs": [],
   "source": [
    "MassIVE_datasets_df.columns"
   ]
  },
  {
   "cell_type": "code",
   "execution_count": null,
   "id": "e38292f9",
   "metadata": {},
   "outputs": [],
   "source": [
    "# massive_plantid_proteomics.tsv is the result from filterMassIVE function on MassIVE databases\n",
    "MassIVE_passed_df = pd.read_csv('massive_plantid_proteomics.tsv', sep='\\t')\n",
    "MassIVE_passed_df.head()"
   ]
  },
  {
   "cell_type": "code",
   "execution_count": null,
   "metadata": {},
   "outputs": [],
   "source": [
    "#Tried to find zmtable on massIVE datasets. \n",
    "for dataset in MassIVE_passed_df[\"dataset\"]:  \n",
    "    massive_obj = ppx.MassiveProject(\n",
    "        f\"{dataset}\")\n",
    "    massive_remote_files = massive_obj.remote_files(glob = \".mztable\")\n",
    "    if massive_remote_files:\n",
    "        print(massive_remote_files)\n",
    "    "
   ]
  },
  {
   "cell_type": "markdown",
   "id": "b35594b8",
   "metadata": {},
   "source": [
    "## 2. GET PRIDE"
   ]
  },
  {
   "cell_type": "code",
   "execution_count": 3,
   "id": "1002fea3",
   "metadata": {},
   "outputs": [
    {
     "name": "stdout",
     "output_type": "stream",
     "text": [
      "Total of plants retrieved from pride database: 1464\n"
     ]
    }
   ],
   "source": [
    "# pride_plant.json is the result from filterPride function on PRIDE databases\n",
    "with open('pride_plant.json') as pride_plants_file:\n",
    "    pride_plant = json.load(pride_plants_file)\n",
    "print(f\"Total of plants retrieved from pride database: {len(pride_plant)}\")"
   ]
  },
  {
   "cell_type": "code",
   "execution_count": 4,
   "id": "138a421c",
   "metadata": {},
   "outputs": [],
   "source": [
    "projetc_identifiers = [] # holds project number for all plants species data from pride\n",
    "accession_number = [] # holds taxon id for all plants species data from pride\n",
    "for key,value in pride_plant.items():\n",
    "    projetc_identifiers.append(key)\n",
    "    accession_number.append(value['accession'])\n",
    "    "
   ]
  },
  {
   "cell_type": "code",
   "execution_count": 5,
   "metadata": {},
   "outputs": [
    {
     "data": {
      "text/plain": [
       "['PRD000037', 'PRD000044', 'PRD000051', 'PRD000084', 'PRD000096']"
      ]
     },
     "execution_count": 5,
     "metadata": {},
     "output_type": "execute_result"
    }
   ],
   "source": [
    "projetc_identifiers[:5]"
   ]
  },
  {
   "cell_type": "code",
   "execution_count": 11,
   "metadata": {},
   "outputs": [
    {
     "data": {
      "text/plain": [
       "['3055', '3702', '4577', '3702', '3702']"
      ]
     },
     "execution_count": 11,
     "metadata": {},
     "output_type": "execute_result"
    }
   ],
   "source": [
    "accession_number[:5]"
   ]
  },
  {
   "cell_type": "code",
   "execution_count": 34,
   "metadata": {},
   "outputs": [
    {
     "ename": "error_temp",
     "evalue": "Failed after 10 reconnect(s), the last error was: 550 Failed to change directory.",
     "output_type": "error",
     "traceback": [
      "\u001b[0;31m---------------------------------------------------------------------------\u001b[0m",
      "\u001b[0;31merror_temp\u001b[0m                                Traceback (most recent call last)",
      "\u001b[0;32m/tmp/ipykernel_21911/2916036520.py\u001b[0m in \u001b[0;36m<module>\u001b[0;34m\u001b[0m\n\u001b[1;32m      1\u001b[0m \u001b[0;31m# pride changed its FPT link, so the ppx brokes\u001b[0m\u001b[0;34m\u001b[0m\u001b[0;34m\u001b[0m\u001b[0m\n\u001b[1;32m      2\u001b[0m \u001b[0mproj\u001b[0m \u001b[0;34m=\u001b[0m \u001b[0mppx\u001b[0m\u001b[0;34m.\u001b[0m\u001b[0mfind_project\u001b[0m\u001b[0;34m(\u001b[0m\u001b[0mprojetc_identifiers\u001b[0m\u001b[0;34m[\u001b[0m\u001b[0;36m0\u001b[0m\u001b[0;34m]\u001b[0m\u001b[0;34m)\u001b[0m\u001b[0;34m\u001b[0m\u001b[0;34m\u001b[0m\u001b[0m\n\u001b[0;32m----> 3\u001b[0;31m \u001b[0mproj_remote_files\u001b[0m \u001b[0;34m=\u001b[0m \u001b[0mproj\u001b[0m\u001b[0;34m.\u001b[0m\u001b[0mremote_files\u001b[0m\u001b[0;34m(\u001b[0m\u001b[0;34m)\u001b[0m\u001b[0;34m\u001b[0m\u001b[0;34m\u001b[0m\u001b[0m\n\u001b[0m",
      "\u001b[0;32m~/anaconda3/envs/lncrna/lib/python3.9/site-packages/ppx/project.py\u001b[0m in \u001b[0;36mremote_files\u001b[0;34m(self, glob)\u001b[0m\n\u001b[1;32m    159\u001b[0m         \"\"\"\n\u001b[1;32m    160\u001b[0m         \u001b[0;32mif\u001b[0m \u001b[0mself\u001b[0m\u001b[0;34m.\u001b[0m\u001b[0mfetch\u001b[0m \u001b[0;32mor\u001b[0m \u001b[0mself\u001b[0m\u001b[0;34m.\u001b[0m\u001b[0m_remote_files\u001b[0m \u001b[0;32mis\u001b[0m \u001b[0;32mNone\u001b[0m\u001b[0;34m:\u001b[0m\u001b[0;34m\u001b[0m\u001b[0;34m\u001b[0m\u001b[0m\n\u001b[0;32m--> 161\u001b[0;31m             \u001b[0mself\u001b[0m\u001b[0;34m.\u001b[0m\u001b[0m_remote_files\u001b[0m \u001b[0;34m=\u001b[0m \u001b[0mself\u001b[0m\u001b[0;34m.\u001b[0m\u001b[0m_parser\u001b[0m\u001b[0;34m.\u001b[0m\u001b[0mfiles\u001b[0m\u001b[0;34m\u001b[0m\u001b[0;34m\u001b[0m\u001b[0m\n\u001b[0m\u001b[1;32m    162\u001b[0m \u001b[0;34m\u001b[0m\u001b[0m\n\u001b[1;32m    163\u001b[0m         \u001b[0;32mif\u001b[0m \u001b[0mglob\u001b[0m \u001b[0;32mis\u001b[0m \u001b[0;32mnot\u001b[0m \u001b[0;32mNone\u001b[0m\u001b[0;34m:\u001b[0m\u001b[0;34m\u001b[0m\u001b[0;34m\u001b[0m\u001b[0m\n",
      "\u001b[0;32m~/anaconda3/envs/lncrna/lib/python3.9/site-packages/ppx/ftp.py\u001b[0m in \u001b[0;36mfiles\u001b[0;34m(self)\u001b[0m\n\u001b[1;32m    242\u001b[0m         \u001b[0;34m\"\"\"List the files form the FTP connection\"\"\"\u001b[0m\u001b[0;34m\u001b[0m\u001b[0;34m\u001b[0m\u001b[0m\n\u001b[1;32m    243\u001b[0m         \u001b[0;32mif\u001b[0m \u001b[0mself\u001b[0m\u001b[0;34m.\u001b[0m\u001b[0m_files\u001b[0m \u001b[0;32mis\u001b[0m \u001b[0;32mNone\u001b[0m\u001b[0;34m:\u001b[0m\u001b[0;34m\u001b[0m\u001b[0;34m\u001b[0m\u001b[0m\n\u001b[0;32m--> 244\u001b[0;31m             \u001b[0mself\u001b[0m\u001b[0;34m.\u001b[0m\u001b[0m_get_files\u001b[0m\u001b[0;34m(\u001b[0m\u001b[0;34m)\u001b[0m\u001b[0;34m\u001b[0m\u001b[0;34m\u001b[0m\u001b[0m\n\u001b[0m\u001b[1;32m    245\u001b[0m             \u001b[0mself\u001b[0m\u001b[0;34m.\u001b[0m\u001b[0m_files\u001b[0m\u001b[0;34m.\u001b[0m\u001b[0msort\u001b[0m\u001b[0;34m(\u001b[0m\u001b[0;34m)\u001b[0m\u001b[0;34m\u001b[0m\u001b[0;34m\u001b[0m\u001b[0m\n\u001b[1;32m    246\u001b[0m \u001b[0;34m\u001b[0m\u001b[0m\n",
      "\u001b[0;32m~/anaconda3/envs/lncrna/lib/python3.9/site-packages/ppx/ftp.py\u001b[0m in \u001b[0;36m_get_files\u001b[0;34m(self)\u001b[0m\n\u001b[1;32m    183\u001b[0m     \u001b[0;32mdef\u001b[0m \u001b[0m_get_files\u001b[0m\u001b[0;34m(\u001b[0m\u001b[0mself\u001b[0m\u001b[0;34m)\u001b[0m\u001b[0;34m:\u001b[0m\u001b[0;34m\u001b[0m\u001b[0;34m\u001b[0m\u001b[0m\n\u001b[1;32m    184\u001b[0m         \u001b[0;34m\"\"\"Recursively list files from the FTP connection.\"\"\"\u001b[0m\u001b[0;34m\u001b[0m\u001b[0;34m\u001b[0m\u001b[0m\n\u001b[0;32m--> 185\u001b[0;31m         \u001b[0mself\u001b[0m\u001b[0;34m.\u001b[0m\u001b[0mconnect\u001b[0m\u001b[0;34m(\u001b[0m\u001b[0;34m)\u001b[0m\u001b[0;34m\u001b[0m\u001b[0;34m\u001b[0m\u001b[0m\n\u001b[0m\u001b[1;32m    186\u001b[0m         \u001b[0mself\u001b[0m\u001b[0;34m.\u001b[0m\u001b[0m_files\u001b[0m\u001b[0;34m,\u001b[0m \u001b[0mself\u001b[0m\u001b[0;34m.\u001b[0m\u001b[0m_dirs\u001b[0m \u001b[0;34m=\u001b[0m \u001b[0mself\u001b[0m\u001b[0;34m.\u001b[0m\u001b[0m_with_reconnects\u001b[0m\u001b[0;34m(\u001b[0m\u001b[0mself\u001b[0m\u001b[0;34m.\u001b[0m\u001b[0m_parse_files\u001b[0m\u001b[0;34m)\u001b[0m\u001b[0;34m\u001b[0m\u001b[0;34m\u001b[0m\u001b[0m\n\u001b[1;32m    187\u001b[0m         \u001b[0mself\u001b[0m\u001b[0;34m.\u001b[0m\u001b[0m_depth\u001b[0m \u001b[0;34m=\u001b[0m \u001b[0;36m0\u001b[0m\u001b[0;34m\u001b[0m\u001b[0;34m\u001b[0m\u001b[0m\n",
      "\u001b[0;32m~/anaconda3/envs/lncrna/lib/python3.9/site-packages/ppx/ftp.py\u001b[0m in \u001b[0;36mconnect\u001b[0;34m(self)\u001b[0m\n\u001b[1;32m     81\u001b[0m     \u001b[0;32mdef\u001b[0m \u001b[0mconnect\u001b[0m\u001b[0;34m(\u001b[0m\u001b[0mself\u001b[0m\u001b[0;34m)\u001b[0m\u001b[0;34m:\u001b[0m\u001b[0;34m\u001b[0m\u001b[0;34m\u001b[0m\u001b[0m\n\u001b[1;32m     82\u001b[0m         \u001b[0;34m\"\"\"Connect to the FTP server, with reconnects on failure.\"\"\"\u001b[0m\u001b[0;34m\u001b[0m\u001b[0;34m\u001b[0m\u001b[0m\n\u001b[0;32m---> 83\u001b[0;31m         \u001b[0mself\u001b[0m\u001b[0;34m.\u001b[0m\u001b[0m_with_reconnects\u001b[0m\u001b[0;34m(\u001b[0m\u001b[0mself\u001b[0m\u001b[0;34m.\u001b[0m\u001b[0m_connect\u001b[0m\u001b[0;34m)\u001b[0m\u001b[0;34m\u001b[0m\u001b[0;34m\u001b[0m\u001b[0m\n\u001b[0m\u001b[1;32m     84\u001b[0m \u001b[0;34m\u001b[0m\u001b[0m\n\u001b[1;32m     85\u001b[0m     \u001b[0;32mdef\u001b[0m \u001b[0mquit\u001b[0m\u001b[0;34m(\u001b[0m\u001b[0mself\u001b[0m\u001b[0;34m)\u001b[0m\u001b[0;34m:\u001b[0m\u001b[0;34m\u001b[0m\u001b[0;34m\u001b[0m\u001b[0m\n",
      "\u001b[0;32m~/anaconda3/envs/lncrna/lib/python3.9/site-packages/ppx/ftp.py\u001b[0m in \u001b[0;36m_with_reconnects\u001b[0;34m(self, func, *args, **kwargs)\u001b[0m\n\u001b[1;32m    110\u001b[0m                 \u001b[0mlast_err\u001b[0m \u001b[0;34m=\u001b[0m \u001b[0merr\u001b[0m\u001b[0;34m\u001b[0m\u001b[0;34m\u001b[0m\u001b[0m\n\u001b[1;32m    111\u001b[0m \u001b[0;34m\u001b[0m\u001b[0m\n\u001b[0;32m--> 112\u001b[0;31m         raise error_temp(\n\u001b[0m\u001b[1;32m    113\u001b[0m             \u001b[0;34mf\"Failed after {self.max_reconnects} reconnect(s), \"\u001b[0m\u001b[0;34m\u001b[0m\u001b[0;34m\u001b[0m\u001b[0m\n\u001b[1;32m    114\u001b[0m             \u001b[0;34mf\"the last error was: {last_err}\"\u001b[0m\u001b[0;34m\u001b[0m\u001b[0;34m\u001b[0m\u001b[0m\n",
      "\u001b[0;31merror_temp\u001b[0m: Failed after 10 reconnect(s), the last error was: 550 Failed to change directory."
     ]
    }
   ],
   "source": [
    "# pride changed its FPT link, so the ppx brokes\n",
    "proj = ppx.find_project(projetc_identifiers[0])\n",
    "proj_remote_files = proj.remote_files()\n"
   ]
  },
  {
   "cell_type": "code",
   "execution_count": 53,
   "metadata": {},
   "outputs": [
    {
     "name": "stdout",
     "output_type": "stream",
     "text": [
      "PRD000037\n",
      "https://www.ebi.ac.uk/pride/ws/archive/v2/projects/PRD000037/files\n",
      "PRD000044\n",
      "https://www.ebi.ac.uk/pride/ws/archive/v2/projects/PRD000044/files\n",
      "PRD000051\n",
      "https://www.ebi.ac.uk/pride/ws/archive/v2/projects/PRD000051/files\n",
      "PRD000084\n",
      "https://www.ebi.ac.uk/pride/ws/archive/v2/projects/PRD000084/files\n",
      "PRD000096\n",
      "https://www.ebi.ac.uk/pride/ws/archive/v2/projects/PRD000096/files\n",
      "PRD000114\n",
      "https://www.ebi.ac.uk/pride/ws/archive/v2/projects/PRD000114/files\n",
      "PRD000116\n",
      "https://www.ebi.ac.uk/pride/ws/archive/v2/projects/PRD000116/files\n",
      "PRD000119\n",
      "https://www.ebi.ac.uk/pride/ws/archive/v2/projects/PRD000119/files\n",
      "PRD000126\n",
      "https://www.ebi.ac.uk/pride/ws/archive/v2/projects/PRD000126/files\n",
      "PRD000133\n",
      "https://www.ebi.ac.uk/pride/ws/archive/v2/projects/PRD000133/files\n"
     ]
    }
   ],
   "source": [
    "# Try to accesss files through link available on metadata file\n",
    "with open('pride.log.json',\"w+\") as pride_log_file:\n",
    "    for all_projects in projetc_identifiers[:10]:\n",
    "        proj = ppx.find_project(all_projects)\n",
    "        print(proj.id)\n",
    "        print(proj.metadata[\"_links\"][\"files\"][\"href\"])\n",
    "        json.dump(proj.metadata,pride_log_file) # generates a log files in case manual checks in necessary. Takes some time\n",
    "\n",
    "\n",
    "# remote_files = proj.remote_files()\n",
    "# print(remote_files)"
   ]
  },
  {
   "cell_type": "code",
   "execution_count": null,
   "id": "523393d9",
   "metadata": {},
   "outputs": [],
   "source": [
    "findmztab(projetc_identifiers[0])==None # select m/z tables from a given project.  "
   ]
  },
  {
   "cell_type": "code",
   "execution_count": null,
   "id": "b1e128e6",
   "metadata": {},
   "outputs": [],
   "source": [
    "#Search for project with mztab in pride plants database\n",
    "for i in projetc_identifiers:\n",
    "    if findmztab(i)!= None: #Selec only those files with m\\z tables\n",
    "        print(i)\n",
    "        break #stops at fist result "
   ]
  },
  {
   "cell_type": "code",
   "execution_count": 57,
   "id": "abc18410",
   "metadata": {},
   "outputs": [],
   "source": [
    "#Explores the first result\n",
    "#Everything from here must be done to all findings \n",
    "proj = ppx.find_project('PRD000084')"
   ]
  },
  {
   "cell_type": "code",
   "execution_count": 48,
   "id": "4b5f0373",
   "metadata": {},
   "outputs": [
    {
     "data": {
      "text/plain": [
       "{'accession': 'PRD000084',\n",
       " 'title': 'Pollen proteome map of Arabidopsis thaliana',\n",
       " 'additionalAttributes': [{'@type': 'CvParam',\n",
       "   'cvLabel': 'PRIDE',\n",
       "   'accession': 'PRIDE:0000411',\n",
       "   'name': 'Dataset FTP location',\n",
       "   'value': 'ftp://ftp.ebi.ac.uk/pride-archive/2012/01/PRD000084'}],\n",
       " 'projectDescription': 'Not available',\n",
       " 'sampleProcessingProtocol': 'Not available',\n",
       " 'dataProcessingProtocol': 'Not available',\n",
       " 'projectTags': [],\n",
       " 'keywords': ['Not available'],\n",
       " 'doi': '',\n",
       " 'submissionType': 'PRIDE',\n",
       " 'submissionDate': '2008-10-29',\n",
       " 'publicationDate': '2012-01-31',\n",
       " 'submitters': [{'title': 'Dr',\n",
       "   'affiliation': 'Institute of  Plant Science',\n",
       "   'email': 'bkatja@ethz.ch',\n",
       "   'country': '',\n",
       "   'orcid': '',\n",
       "   'name': 'Katja Baerenfaller',\n",
       "   'id': '430136'}],\n",
       " 'labPIs': [],\n",
       " 'affiliations': ['Institute of  Plant Science'],\n",
       " 'instruments': [{'@type': 'CvParam',\n",
       "   'cvLabel': 'MS',\n",
       "   'accession': 'MS:1000447',\n",
       "   'name': 'LTQ'},\n",
       "  {'@type': 'CvParam',\n",
       "   'cvLabel': 'MS',\n",
       "   'accession': 'MS:1000031',\n",
       "   'name': 'instrument model',\n",
       "   'value': 'ThermoFinnigan LTQ'}],\n",
       " 'softwares': [{'@type': 'CvParam',\n",
       "   'cvLabel': 'MS',\n",
       "   'accession': 'MS:1000531',\n",
       "   'name': 'Xcalibur 1.0 SP1'}],\n",
       " 'quantificationMethods': [],\n",
       " 'countries': [],\n",
       " 'sampleAttributes': [],\n",
       " 'organisms': [{'@type': 'CvParam',\n",
       "   'cvLabel': 'NEWT',\n",
       "   'accession': '3702',\n",
       "   'name': 'Arabidopsis thaliana (mouse-ear cress)'}],\n",
       " 'organismParts': [{'@type': 'CvParam',\n",
       "   'cvLabel': 'BTO',\n",
       "   'accession': 'BTO:0001097',\n",
       "   'name': 'Pollen'}],\n",
       " 'diseases': [],\n",
       " 'references': [{'referenceLine': 'Grobei MA, Qeli E, Brunner E, Rehrauer H, Zhang R, Roschitzki B, Basler K, Ahrens CH, Grossniklaus U; Deterministic protein inference for shotgun proteomics data provides new insights into Arabidopsis pollen development and function., Genome Res, 2009 Oct, 19, 10, 1786-800, ',\n",
       "   'doi': '10.1101/gr.089060.108',\n",
       "   'pubmedId': 19546170,\n",
       "   'id': 19546170}],\n",
       " 'identifiedPTMStrings': [{'@type': 'CvParam',\n",
       "   'cvLabel': 'MOD',\n",
       "   'accession': 'MOD:00412',\n",
       "   'name': 'oxidation'},\n",
       "  {'@type': 'CvParam',\n",
       "   'cvLabel': 'MOD',\n",
       "   'accession': 'MOD:00397',\n",
       "   'name': 'iodoacetamide derivatized residue'},\n",
       "  {'@type': 'CvParam',\n",
       "   'cvLabel': 'MOD',\n",
       "   'accession': 'MOD:00481',\n",
       "   'name': 'Applied Biosystems cleavable ICAT(TM) heavy'}],\n",
       " '_links': {'self': {'href': 'https://www.ebi.ac.uk/pride/ws/archive/v2/projects/PRD000084'},\n",
       "  'files': {'href': 'https://www.ebi.ac.uk/pride/ws/archive/v2/projects/PRD000084/files'},\n",
       "  'datasetFtpUrl': {'href': 'ftp://ftp.pride.ebi.ac.uk/pride/data/archive/2012/01/PRD000084'}}}"
      ]
     },
     "execution_count": 48,
     "metadata": {},
     "output_type": "execute_result"
    }
   ],
   "source": [
    "proj.metadata[\"\"]\n"
   ]
  },
  {
   "cell_type": "code",
   "execution_count": 56,
   "id": "ae2d9b7d",
   "metadata": {},
   "outputs": [
    {
     "data": {
      "text/plain": [
       "{'name': 'Arabidopsis thaliana (mouse-ear cress)', 'accession': '3702'}"
      ]
     },
     "execution_count": 56,
     "metadata": {},
     "output_type": "execute_result"
    }
   ],
   "source": [
    "pride_plant['PRD000084']"
   ]
  },
  {
   "cell_type": "code",
   "execution_count": 55,
   "id": "9e29748c",
   "metadata": {},
   "outputs": [
    {
     "ename": "error_temp",
     "evalue": "Failed after 10 reconnect(s), the last error was: 550 Failed to change directory.",
     "output_type": "error",
     "traceback": [
      "\u001b[0;31m---------------------------------------------------------------------------\u001b[0m",
      "\u001b[0;31merror_temp\u001b[0m                                Traceback (most recent call last)",
      "\u001b[0;32m/tmp/ipykernel_21911/3837013368.py\u001b[0m in \u001b[0;36m<module>\u001b[0;34m\u001b[0m\n\u001b[0;32m----> 1\u001b[0;31m \u001b[0mremote_files\u001b[0m \u001b[0;34m=\u001b[0m \u001b[0mproj\u001b[0m\u001b[0;34m.\u001b[0m\u001b[0mremote_files\u001b[0m\u001b[0;34m(\u001b[0m\u001b[0;34m)\u001b[0m\u001b[0;34m\u001b[0m\u001b[0;34m\u001b[0m\u001b[0m\n\u001b[0m\u001b[1;32m      2\u001b[0m \u001b[0mprint\u001b[0m\u001b[0;34m(\u001b[0m\u001b[0mremote_files\u001b[0m\u001b[0;34m)\u001b[0m\u001b[0;34m\u001b[0m\u001b[0;34m\u001b[0m\u001b[0m\n",
      "\u001b[0;32m~/anaconda3/envs/lncrna/lib/python3.9/site-packages/ppx/project.py\u001b[0m in \u001b[0;36mremote_files\u001b[0;34m(self, glob)\u001b[0m\n\u001b[1;32m    159\u001b[0m         \"\"\"\n\u001b[1;32m    160\u001b[0m         \u001b[0;32mif\u001b[0m \u001b[0mself\u001b[0m\u001b[0;34m.\u001b[0m\u001b[0mfetch\u001b[0m \u001b[0;32mor\u001b[0m \u001b[0mself\u001b[0m\u001b[0;34m.\u001b[0m\u001b[0m_remote_files\u001b[0m \u001b[0;32mis\u001b[0m \u001b[0;32mNone\u001b[0m\u001b[0;34m:\u001b[0m\u001b[0;34m\u001b[0m\u001b[0;34m\u001b[0m\u001b[0m\n\u001b[0;32m--> 161\u001b[0;31m             \u001b[0mself\u001b[0m\u001b[0;34m.\u001b[0m\u001b[0m_remote_files\u001b[0m \u001b[0;34m=\u001b[0m \u001b[0mself\u001b[0m\u001b[0;34m.\u001b[0m\u001b[0m_parser\u001b[0m\u001b[0;34m.\u001b[0m\u001b[0mfiles\u001b[0m\u001b[0;34m\u001b[0m\u001b[0;34m\u001b[0m\u001b[0m\n\u001b[0m\u001b[1;32m    162\u001b[0m \u001b[0;34m\u001b[0m\u001b[0m\n\u001b[1;32m    163\u001b[0m         \u001b[0;32mif\u001b[0m \u001b[0mglob\u001b[0m \u001b[0;32mis\u001b[0m \u001b[0;32mnot\u001b[0m \u001b[0;32mNone\u001b[0m\u001b[0;34m:\u001b[0m\u001b[0;34m\u001b[0m\u001b[0;34m\u001b[0m\u001b[0m\n",
      "\u001b[0;32m~/anaconda3/envs/lncrna/lib/python3.9/site-packages/ppx/ftp.py\u001b[0m in \u001b[0;36mfiles\u001b[0;34m(self)\u001b[0m\n\u001b[1;32m    242\u001b[0m         \u001b[0;34m\"\"\"List the files form the FTP connection\"\"\"\u001b[0m\u001b[0;34m\u001b[0m\u001b[0;34m\u001b[0m\u001b[0m\n\u001b[1;32m    243\u001b[0m         \u001b[0;32mif\u001b[0m \u001b[0mself\u001b[0m\u001b[0;34m.\u001b[0m\u001b[0m_files\u001b[0m \u001b[0;32mis\u001b[0m \u001b[0;32mNone\u001b[0m\u001b[0;34m:\u001b[0m\u001b[0;34m\u001b[0m\u001b[0;34m\u001b[0m\u001b[0m\n\u001b[0;32m--> 244\u001b[0;31m             \u001b[0mself\u001b[0m\u001b[0;34m.\u001b[0m\u001b[0m_get_files\u001b[0m\u001b[0;34m(\u001b[0m\u001b[0;34m)\u001b[0m\u001b[0;34m\u001b[0m\u001b[0;34m\u001b[0m\u001b[0m\n\u001b[0m\u001b[1;32m    245\u001b[0m             \u001b[0mself\u001b[0m\u001b[0;34m.\u001b[0m\u001b[0m_files\u001b[0m\u001b[0;34m.\u001b[0m\u001b[0msort\u001b[0m\u001b[0;34m(\u001b[0m\u001b[0;34m)\u001b[0m\u001b[0;34m\u001b[0m\u001b[0;34m\u001b[0m\u001b[0m\n\u001b[1;32m    246\u001b[0m \u001b[0;34m\u001b[0m\u001b[0m\n",
      "\u001b[0;32m~/anaconda3/envs/lncrna/lib/python3.9/site-packages/ppx/ftp.py\u001b[0m in \u001b[0;36m_get_files\u001b[0;34m(self)\u001b[0m\n\u001b[1;32m    183\u001b[0m     \u001b[0;32mdef\u001b[0m \u001b[0m_get_files\u001b[0m\u001b[0;34m(\u001b[0m\u001b[0mself\u001b[0m\u001b[0;34m)\u001b[0m\u001b[0;34m:\u001b[0m\u001b[0;34m\u001b[0m\u001b[0;34m\u001b[0m\u001b[0m\n\u001b[1;32m    184\u001b[0m         \u001b[0;34m\"\"\"Recursively list files from the FTP connection.\"\"\"\u001b[0m\u001b[0;34m\u001b[0m\u001b[0;34m\u001b[0m\u001b[0m\n\u001b[0;32m--> 185\u001b[0;31m         \u001b[0mself\u001b[0m\u001b[0;34m.\u001b[0m\u001b[0mconnect\u001b[0m\u001b[0;34m(\u001b[0m\u001b[0;34m)\u001b[0m\u001b[0;34m\u001b[0m\u001b[0;34m\u001b[0m\u001b[0m\n\u001b[0m\u001b[1;32m    186\u001b[0m         \u001b[0mself\u001b[0m\u001b[0;34m.\u001b[0m\u001b[0m_files\u001b[0m\u001b[0;34m,\u001b[0m \u001b[0mself\u001b[0m\u001b[0;34m.\u001b[0m\u001b[0m_dirs\u001b[0m \u001b[0;34m=\u001b[0m \u001b[0mself\u001b[0m\u001b[0;34m.\u001b[0m\u001b[0m_with_reconnects\u001b[0m\u001b[0;34m(\u001b[0m\u001b[0mself\u001b[0m\u001b[0;34m.\u001b[0m\u001b[0m_parse_files\u001b[0m\u001b[0;34m)\u001b[0m\u001b[0;34m\u001b[0m\u001b[0;34m\u001b[0m\u001b[0m\n\u001b[1;32m    187\u001b[0m         \u001b[0mself\u001b[0m\u001b[0;34m.\u001b[0m\u001b[0m_depth\u001b[0m \u001b[0;34m=\u001b[0m \u001b[0;36m0\u001b[0m\u001b[0;34m\u001b[0m\u001b[0;34m\u001b[0m\u001b[0m\n",
      "\u001b[0;32m~/anaconda3/envs/lncrna/lib/python3.9/site-packages/ppx/ftp.py\u001b[0m in \u001b[0;36mconnect\u001b[0;34m(self)\u001b[0m\n\u001b[1;32m     81\u001b[0m     \u001b[0;32mdef\u001b[0m \u001b[0mconnect\u001b[0m\u001b[0;34m(\u001b[0m\u001b[0mself\u001b[0m\u001b[0;34m)\u001b[0m\u001b[0;34m:\u001b[0m\u001b[0;34m\u001b[0m\u001b[0;34m\u001b[0m\u001b[0m\n\u001b[1;32m     82\u001b[0m         \u001b[0;34m\"\"\"Connect to the FTP server, with reconnects on failure.\"\"\"\u001b[0m\u001b[0;34m\u001b[0m\u001b[0;34m\u001b[0m\u001b[0m\n\u001b[0;32m---> 83\u001b[0;31m         \u001b[0mself\u001b[0m\u001b[0;34m.\u001b[0m\u001b[0m_with_reconnects\u001b[0m\u001b[0;34m(\u001b[0m\u001b[0mself\u001b[0m\u001b[0;34m.\u001b[0m\u001b[0m_connect\u001b[0m\u001b[0;34m)\u001b[0m\u001b[0;34m\u001b[0m\u001b[0;34m\u001b[0m\u001b[0m\n\u001b[0m\u001b[1;32m     84\u001b[0m \u001b[0;34m\u001b[0m\u001b[0m\n\u001b[1;32m     85\u001b[0m     \u001b[0;32mdef\u001b[0m \u001b[0mquit\u001b[0m\u001b[0;34m(\u001b[0m\u001b[0mself\u001b[0m\u001b[0;34m)\u001b[0m\u001b[0;34m:\u001b[0m\u001b[0;34m\u001b[0m\u001b[0;34m\u001b[0m\u001b[0m\n",
      "\u001b[0;32m~/anaconda3/envs/lncrna/lib/python3.9/site-packages/ppx/ftp.py\u001b[0m in \u001b[0;36m_with_reconnects\u001b[0;34m(self, func, *args, **kwargs)\u001b[0m\n\u001b[1;32m    110\u001b[0m                 \u001b[0mlast_err\u001b[0m \u001b[0;34m=\u001b[0m \u001b[0merr\u001b[0m\u001b[0;34m\u001b[0m\u001b[0;34m\u001b[0m\u001b[0m\n\u001b[1;32m    111\u001b[0m \u001b[0;34m\u001b[0m\u001b[0m\n\u001b[0;32m--> 112\u001b[0;31m         raise error_temp(\n\u001b[0m\u001b[1;32m    113\u001b[0m             \u001b[0;34mf\"Failed after {self.max_reconnects} reconnect(s), \"\u001b[0m\u001b[0;34m\u001b[0m\u001b[0;34m\u001b[0m\u001b[0m\n\u001b[1;32m    114\u001b[0m             \u001b[0;34mf\"the last error was: {last_err}\"\u001b[0m\u001b[0;34m\u001b[0m\u001b[0;34m\u001b[0m\u001b[0m\n",
      "\u001b[0;31merror_temp\u001b[0m: Failed after 10 reconnect(s), the last error was: 550 Failed to change directory."
     ]
    }
   ],
   "source": [
    "remote_files = proj.remote_files()\n",
    "print(remote_files)"
   ]
  },
  {
   "cell_type": "code",
   "execution_count": null,
   "id": "24ea6566",
   "metadata": {},
   "outputs": [],
   "source": [
    "findmztab(i)"
   ]
  },
  {
   "cell_type": "code",
   "execution_count": null,
   "id": "b1c0c66d",
   "metadata": {},
   "outputs": [],
   "source": [
    "downloaded = proj.download(\"generated/PRIDE_Exp_Complete_Ac_15505.pride.mztab.gz\")\n",
    "print(downloaded)"
   ]
  },
  {
   "cell_type": "code",
   "execution_count": null,
   "id": "6b4d1d02",
   "metadata": {},
   "outputs": [],
   "source": [
    "!gzip -df /home/tiago/.ppx/PRD000084/generated/PRIDE_Exp_Complete_Ac_15505.pride.mztab.gz "
   ]
  },
  {
   "cell_type": "code",
   "execution_count": null,
   "id": "1e8550f0",
   "metadata": {},
   "outputs": [],
   "source": [
    "!ls /home/tiago/.ppx/PRD000084/generated/"
   ]
  },
  {
   "cell_type": "code",
   "execution_count": null,
   "id": "9f357f8a",
   "metadata": {},
   "outputs": [],
   "source": [
    "tables = mztab.MzTab(\"/home/tiago/.ppx/PRD000084/generated/PRIDE_Exp_Complete_Ac_15505.pride.mztab\")\n",
    "psms = tables.spectrum_match_table\n",
    "psms.head()"
   ]
  },
  {
   "cell_type": "code",
   "execution_count": null,
   "id": "f8b20602",
   "metadata": {},
   "outputs": [],
   "source": [
    "tables.keys()"
   ]
  },
  {
   "cell_type": "code",
   "execution_count": null,
   "id": "f18f59ad",
   "metadata": {},
   "outputs": [],
   "source": [
    "prt = pd.DataFrame(tables['PRT'])"
   ]
  },
  {
   "cell_type": "code",
   "execution_count": null,
   "id": "f624915f",
   "metadata": {},
   "outputs": [],
   "source": [
    "prt.head()"
   ]
  },
  {
   "cell_type": "code",
   "execution_count": null,
   "id": "09f3a53e",
   "metadata": {},
   "outputs": [],
   "source": [
    "prt['description'].str.contains('unknown').sum() #Number of unknown proteins confirmed "
   ]
  },
  {
   "cell_type": "code",
   "execution_count": null,
   "metadata": {},
   "outputs": [],
   "source": [
    "prt[\"description\"].str.contains(\"putative\").sum() #Number of putative proteins "
   ]
  },
  {
   "cell_type": "code",
   "execution_count": null,
   "metadata": {},
   "outputs": [],
   "source": [
    "prt[\"description\"].str.contains(\"hypothetical\").sum() #Nuber of hypothetical proteins"
   ]
  },
  {
   "cell_type": "code",
   "execution_count": null,
   "id": "86b93c5b",
   "metadata": {},
   "outputs": [],
   "source": [
    "prt['description'].str.contains('lnc').sum() #Number of long non coding RNA?"
   ]
  },
  {
   "cell_type": "code",
   "execution_count": null,
   "id": "1be9a566",
   "metadata": {},
   "outputs": [],
   "source": [
    "prt['description'].str.contains('coding', case=False).sum() #Number of coding RNA?"
   ]
  },
  {
   "cell_type": "code",
   "execution_count": null,
   "id": "ab36d0d7",
   "metadata": {},
   "outputs": [],
   "source": [
    "prt['description'].str.contains('non', case=False).sum() #Number of coding RNA"
   ]
  },
  {
   "cell_type": "code",
   "execution_count": null,
   "id": "cdb3d78c",
   "metadata": {},
   "outputs": [],
   "source": [
    "idx = prt['description'].str.contains('unknown') #see the proteins found\n",
    "idx"
   ]
  },
  {
   "cell_type": "code",
   "execution_count": null,
   "id": "8076e3a3",
   "metadata": {},
   "outputs": [],
   "source": [
    "idx[0] = False\n",
    "prt[idx]"
   ]
  },
  {
   "cell_type": "code",
   "execution_count": null,
   "id": "e191c483",
   "metadata": {},
   "outputs": [],
   "source": [
    "accession = list(set(accession))\n",
    "\n",
    "print(len(accession))\n",
    "accession[:10]"
   ]
  },
  {
   "cell_type": "code",
   "execution_count": null,
   "id": "94fe9ca7",
   "metadata": {},
   "outputs": [],
   "source": [
    "ncbi = NCBITaxa()\n",
    "\n",
    "\n",
    "tree = ncbi.get_topology(accession[:3])\n",
    "\n",
    "print (tree.get_ascii(attributes=[\"sci_name\", \"rank\"]))"
   ]
  },
  {
   "cell_type": "markdown",
   "id": "408fd1ea",
   "metadata": {},
   "source": [
    "# Not working, make plot of species available, can use other tools\n",
    "# https://phylot.biobyte.de\n",
    "ts = TreeStyle()\n",
    "ts.show_leaf_name = True\n",
    "ts.mode = \"c\"\n",
    "ts.arc_start = -180 # 0 degrees = 3 o'clock\n",
    "ts.arc_span = 180\n",
    "\n",
    "for n in tree.traverse():\n",
    "    if n.is_leaf():\n",
    "        n.name = n.sci_name\n",
    "\n",
    "tree.render(\"pride_plant_tree.pdf\", w=500, tree_style=ts)"
   ]
  }
 ],
 "metadata": {
  "interpreter": {
   "hash": "aef02e25b8f048ebbd4c2676995f65e0bca0bcbe7f18cd04ddbf903968badd38"
  },
  "kernelspec": {
   "display_name": "Python 3.9.7 64-bit ('lncrna': conda)",
   "name": "python3"
  },
  "language_info": {
   "codemirror_mode": {
    "name": "ipython",
    "version": 3
   },
   "file_extension": ".py",
   "mimetype": "text/x-python",
   "name": "python",
   "nbconvert_exporter": "python",
   "pygments_lexer": "ipython3",
   "version": "3.9.7"
  }
 },
 "nbformat": 4,
 "nbformat_minor": 5
}
